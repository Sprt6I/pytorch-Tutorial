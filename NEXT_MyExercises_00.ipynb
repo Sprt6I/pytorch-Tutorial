{
  "nbformat": 4,
  "nbformat_minor": 0,
  "metadata": {
    "colab": {
      "provenance": [],
      "authorship_tag": "ABX9TyNCQZKJgukNOjujaR+ltomz",
      "include_colab_link": true
    },
    "kernelspec": {
      "name": "python3",
      "display_name": "Python 3"
    },
    "language_info": {
      "name": "python"
    }
  },
  "cells": [
    {
      "cell_type": "markdown",
      "metadata": {
        "id": "view-in-github",
        "colab_type": "text"
      },
      "source": [
        "<a href=\"https://colab.research.google.com/github/Sprt6I/pytorch-Tutorial/blob/main/NEXT_MyExercises_00.ipynb\" target=\"_parent\"><img src=\"https://colab.research.google.com/assets/colab-badge.svg\" alt=\"Open In Colab\"/></a>"
      ]
    },
    {
      "cell_type": "code",
      "execution_count": 1,
      "metadata": {
        "id": "DnsvQbpqXXIa"
      },
      "outputs": [],
      "source": [
        "import torch\n",
        "import numpy as np"
      ]
    },
    {
      "cell_type": "code",
      "source": [
        "x = torch.rand(3,3,2)"
      ],
      "metadata": {
        "id": "CIzWj-1iXdeo"
      },
      "execution_count": 4,
      "outputs": []
    },
    {
      "cell_type": "code",
      "source": [
        "x.reshape(1, 18).squeeze()"
      ],
      "metadata": {
        "colab": {
          "base_uri": "https://localhost:8080/"
        },
        "id": "j0T3sm7YXni3",
        "outputId": "30f0863c-527c-4bc7-ac48-13a485522b00"
      },
      "execution_count": 6,
      "outputs": [
        {
          "output_type": "execute_result",
          "data": {
            "text/plain": [
              "tensor([0.9997, 0.5868, 0.3895, 0.0641, 0.0286, 0.7317, 0.3467, 0.0858, 0.1982,\n",
              "        0.2508, 0.1735, 0.9187, 0.2680, 0.9264, 0.1001, 0.3997, 0.2803, 0.2919])"
            ]
          },
          "metadata": {},
          "execution_count": 6
        }
      ]
    },
    {
      "cell_type": "code",
      "source": [
        "x = torch.stack([x,x,x,x], dim = 0)"
      ],
      "metadata": {
        "id": "uSin9fAwX3Ch"
      },
      "execution_count": 7,
      "outputs": []
    },
    {
      "cell_type": "code",
      "source": [
        "x.shape"
      ],
      "metadata": {
        "colab": {
          "base_uri": "https://localhost:8080/"
        },
        "id": "6O0JTcHCYBxb",
        "outputId": "1c72ef3e-2838-408b-9af7-7459d57fbe2b"
      },
      "execution_count": 10,
      "outputs": [
        {
          "output_type": "execute_result",
          "data": {
            "text/plain": [
              "torch.Size([4, 3, 3, 2])"
            ]
          },
          "metadata": {},
          "execution_count": 10
        }
      ]
    },
    {
      "cell_type": "code",
      "source": [
        "y = x.permute(3,1,2,0)\n",
        "y.shape"
      ],
      "metadata": {
        "colab": {
          "base_uri": "https://localhost:8080/"
        },
        "id": "o0i7Sjn1YHDs",
        "outputId": "64c5250b-82ce-4c6a-f7f5-45a72e5c9b3f"
      },
      "execution_count": 11,
      "outputs": [
        {
          "output_type": "execute_result",
          "data": {
            "text/plain": [
              "torch.Size([2, 3, 3, 4])"
            ]
          },
          "metadata": {},
          "execution_count": 11
        }
      ]
    },
    {
      "cell_type": "code",
      "source": [
        "x = x.reshape(2,9,4)"
      ],
      "metadata": {
        "id": "UZ-wUKgZYNSZ"
      },
      "execution_count": 13,
      "outputs": []
    },
    {
      "cell_type": "code",
      "source": [
        "x[:, 0]"
      ],
      "metadata": {
        "colab": {
          "base_uri": "https://localhost:8080/"
        },
        "id": "30VdiGEnYYaj",
        "outputId": "dad3328b-a082-4cd1-fd70-1879058d04bc"
      },
      "execution_count": 14,
      "outputs": [
        {
          "output_type": "execute_result",
          "data": {
            "text/plain": [
              "tensor([[0.9997, 0.5868, 0.3895, 0.0641],\n",
              "        [0.9997, 0.5868, 0.3895, 0.0641]])"
            ]
          },
          "metadata": {},
          "execution_count": 14
        }
      ]
    },
    {
      "cell_type": "code",
      "source": [
        "x.max(), x.min()"
      ],
      "metadata": {
        "colab": {
          "base_uri": "https://localhost:8080/"
        },
        "id": "Gf41POz1Yhcc",
        "outputId": "0d2c809c-3244-440c-d7c0-8bfe8c4cb560"
      },
      "execution_count": 15,
      "outputs": [
        {
          "output_type": "execute_result",
          "data": {
            "text/plain": [
              "(tensor(0.9997), tensor(0.0286))"
            ]
          },
          "metadata": {},
          "execution_count": 15
        }
      ]
    },
    {
      "cell_type": "code",
      "source": [
        "x.argmax(), x.argmin()"
      ],
      "metadata": {
        "colab": {
          "base_uri": "https://localhost:8080/"
        },
        "id": "LSoRL9SbYjgP",
        "outputId": "81ba11f3-1790-4e22-a9e8-b177669107d5"
      },
      "execution_count": 16,
      "outputs": [
        {
          "output_type": "execute_result",
          "data": {
            "text/plain": [
              "(tensor(0), tensor(4))"
            ]
          },
          "metadata": {},
          "execution_count": 16
        }
      ]
    },
    {
      "cell_type": "code",
      "source": [
        "x.mean(), x.median()"
      ],
      "metadata": {
        "colab": {
          "base_uri": "https://localhost:8080/"
        },
        "id": "SmM7vNOKYnnM",
        "outputId": "0aa5f6ee-f57e-477a-be70-a8e875cd6f26"
      },
      "execution_count": 17,
      "outputs": [
        {
          "output_type": "execute_result",
          "data": {
            "text/plain": [
              "(tensor(0.3911), tensor(0.2803))"
            ]
          },
          "metadata": {},
          "execution_count": 17
        }
      ]
    },
    {
      "cell_type": "code",
      "source": [
        "torch.zeros_like(x), torch.ones_like(x)"
      ],
      "metadata": {
        "colab": {
          "base_uri": "https://localhost:8080/"
        },
        "id": "v3okrtDAYrSm",
        "outputId": "4546addc-6e30-4c9e-a96b-a7b87590d4a7"
      },
      "execution_count": 19,
      "outputs": [
        {
          "output_type": "execute_result",
          "data": {
            "text/plain": [
              "(tensor([[[0., 0., 0., 0.],\n",
              "          [0., 0., 0., 0.],\n",
              "          [0., 0., 0., 0.],\n",
              "          [0., 0., 0., 0.],\n",
              "          [0., 0., 0., 0.],\n",
              "          [0., 0., 0., 0.],\n",
              "          [0., 0., 0., 0.],\n",
              "          [0., 0., 0., 0.],\n",
              "          [0., 0., 0., 0.]],\n",
              " \n",
              "         [[0., 0., 0., 0.],\n",
              "          [0., 0., 0., 0.],\n",
              "          [0., 0., 0., 0.],\n",
              "          [0., 0., 0., 0.],\n",
              "          [0., 0., 0., 0.],\n",
              "          [0., 0., 0., 0.],\n",
              "          [0., 0., 0., 0.],\n",
              "          [0., 0., 0., 0.],\n",
              "          [0., 0., 0., 0.]]]),\n",
              " tensor([[[1., 1., 1., 1.],\n",
              "          [1., 1., 1., 1.],\n",
              "          [1., 1., 1., 1.],\n",
              "          [1., 1., 1., 1.],\n",
              "          [1., 1., 1., 1.],\n",
              "          [1., 1., 1., 1.],\n",
              "          [1., 1., 1., 1.],\n",
              "          [1., 1., 1., 1.],\n",
              "          [1., 1., 1., 1.]],\n",
              " \n",
              "         [[1., 1., 1., 1.],\n",
              "          [1., 1., 1., 1.],\n",
              "          [1., 1., 1., 1.],\n",
              "          [1., 1., 1., 1.],\n",
              "          [1., 1., 1., 1.],\n",
              "          [1., 1., 1., 1.],\n",
              "          [1., 1., 1., 1.],\n",
              "          [1., 1., 1., 1.],\n",
              "          [1., 1., 1., 1.]]]))"
            ]
          },
          "metadata": {},
          "execution_count": 19
        }
      ]
    },
    {
      "cell_type": "code",
      "source": [
        "x+1"
      ],
      "metadata": {
        "colab": {
          "base_uri": "https://localhost:8080/"
        },
        "id": "iTXd8gRgY3S-",
        "outputId": "6f437d4e-02b1-41bf-f1cd-7ee0ad0a1725"
      },
      "execution_count": 20,
      "outputs": [
        {
          "output_type": "execute_result",
          "data": {
            "text/plain": [
              "tensor([[[1.9997, 1.5868, 1.3895, 1.0641],\n",
              "         [1.0286, 1.7317, 1.3467, 1.0858],\n",
              "         [1.1982, 1.2508, 1.1735, 1.9187],\n",
              "         [1.2680, 1.9264, 1.1001, 1.3997],\n",
              "         [1.2803, 1.2919, 1.9997, 1.5868],\n",
              "         [1.3895, 1.0641, 1.0286, 1.7317],\n",
              "         [1.3467, 1.0858, 1.1982, 1.2508],\n",
              "         [1.1735, 1.9187, 1.2680, 1.9264],\n",
              "         [1.1001, 1.3997, 1.2803, 1.2919]],\n",
              "\n",
              "        [[1.9997, 1.5868, 1.3895, 1.0641],\n",
              "         [1.0286, 1.7317, 1.3467, 1.0858],\n",
              "         [1.1982, 1.2508, 1.1735, 1.9187],\n",
              "         [1.2680, 1.9264, 1.1001, 1.3997],\n",
              "         [1.2803, 1.2919, 1.9997, 1.5868],\n",
              "         [1.3895, 1.0641, 1.0286, 1.7317],\n",
              "         [1.3467, 1.0858, 1.1982, 1.2508],\n",
              "         [1.1735, 1.9187, 1.2680, 1.9264],\n",
              "         [1.1001, 1.3997, 1.2803, 1.2919]]])"
            ]
          },
          "metadata": {},
          "execution_count": 20
        }
      ]
    },
    {
      "cell_type": "code",
      "source": [
        "x+1, x-1, x*2, x/2"
      ],
      "metadata": {
        "colab": {
          "base_uri": "https://localhost:8080/"
        },
        "id": "tYt-AluTY9gg",
        "outputId": "32600143-324b-41b4-e50d-023c1fd531be"
      },
      "execution_count": 21,
      "outputs": [
        {
          "output_type": "execute_result",
          "data": {
            "text/plain": [
              "(tensor([[[1.9997, 1.5868, 1.3895, 1.0641],\n",
              "          [1.0286, 1.7317, 1.3467, 1.0858],\n",
              "          [1.1982, 1.2508, 1.1735, 1.9187],\n",
              "          [1.2680, 1.9264, 1.1001, 1.3997],\n",
              "          [1.2803, 1.2919, 1.9997, 1.5868],\n",
              "          [1.3895, 1.0641, 1.0286, 1.7317],\n",
              "          [1.3467, 1.0858, 1.1982, 1.2508],\n",
              "          [1.1735, 1.9187, 1.2680, 1.9264],\n",
              "          [1.1001, 1.3997, 1.2803, 1.2919]],\n",
              " \n",
              "         [[1.9997, 1.5868, 1.3895, 1.0641],\n",
              "          [1.0286, 1.7317, 1.3467, 1.0858],\n",
              "          [1.1982, 1.2508, 1.1735, 1.9187],\n",
              "          [1.2680, 1.9264, 1.1001, 1.3997],\n",
              "          [1.2803, 1.2919, 1.9997, 1.5868],\n",
              "          [1.3895, 1.0641, 1.0286, 1.7317],\n",
              "          [1.3467, 1.0858, 1.1982, 1.2508],\n",
              "          [1.1735, 1.9187, 1.2680, 1.9264],\n",
              "          [1.1001, 1.3997, 1.2803, 1.2919]]]),\n",
              " tensor([[[-3.3003e-04, -4.1316e-01, -6.1050e-01, -9.3588e-01],\n",
              "          [-9.7136e-01, -2.6833e-01, -6.5327e-01, -9.1421e-01],\n",
              "          [-8.0179e-01, -7.4918e-01, -8.2652e-01, -8.1342e-02],\n",
              "          [-7.3199e-01, -7.3650e-02, -8.9992e-01, -6.0025e-01],\n",
              "          [-7.1971e-01, -7.0813e-01, -3.3003e-04, -4.1316e-01],\n",
              "          [-6.1050e-01, -9.3588e-01, -9.7136e-01, -2.6833e-01],\n",
              "          [-6.5327e-01, -9.1421e-01, -8.0179e-01, -7.4918e-01],\n",
              "          [-8.2652e-01, -8.1342e-02, -7.3199e-01, -7.3650e-02],\n",
              "          [-8.9992e-01, -6.0025e-01, -7.1971e-01, -7.0813e-01]],\n",
              " \n",
              "         [[-3.3003e-04, -4.1316e-01, -6.1050e-01, -9.3588e-01],\n",
              "          [-9.7136e-01, -2.6833e-01, -6.5327e-01, -9.1421e-01],\n",
              "          [-8.0179e-01, -7.4918e-01, -8.2652e-01, -8.1342e-02],\n",
              "          [-7.3199e-01, -7.3650e-02, -8.9992e-01, -6.0025e-01],\n",
              "          [-7.1971e-01, -7.0813e-01, -3.3003e-04, -4.1316e-01],\n",
              "          [-6.1050e-01, -9.3588e-01, -9.7136e-01, -2.6833e-01],\n",
              "          [-6.5327e-01, -9.1421e-01, -8.0179e-01, -7.4918e-01],\n",
              "          [-8.2652e-01, -8.1342e-02, -7.3199e-01, -7.3650e-02],\n",
              "          [-8.9992e-01, -6.0025e-01, -7.1971e-01, -7.0813e-01]]]),\n",
              " tensor([[[1.9993, 1.1737, 0.7790, 0.1282],\n",
              "          [0.0573, 1.4633, 0.6935, 0.1716],\n",
              "          [0.3964, 0.5016, 0.3470, 1.8373],\n",
              "          [0.5360, 1.8527, 0.2002, 0.7995],\n",
              "          [0.5606, 0.5837, 1.9993, 1.1737],\n",
              "          [0.7790, 0.1282, 0.0573, 1.4633],\n",
              "          [0.6935, 0.1716, 0.3964, 0.5016],\n",
              "          [0.3470, 1.8373, 0.5360, 1.8527],\n",
              "          [0.2002, 0.7995, 0.5606, 0.5837]],\n",
              " \n",
              "         [[1.9993, 1.1737, 0.7790, 0.1282],\n",
              "          [0.0573, 1.4633, 0.6935, 0.1716],\n",
              "          [0.3964, 0.5016, 0.3470, 1.8373],\n",
              "          [0.5360, 1.8527, 0.2002, 0.7995],\n",
              "          [0.5606, 0.5837, 1.9993, 1.1737],\n",
              "          [0.7790, 0.1282, 0.0573, 1.4633],\n",
              "          [0.6935, 0.1716, 0.3964, 0.5016],\n",
              "          [0.3470, 1.8373, 0.5360, 1.8527],\n",
              "          [0.2002, 0.7995, 0.5606, 0.5837]]]),\n",
              " tensor([[[0.4998, 0.2934, 0.1947, 0.0321],\n",
              "          [0.0143, 0.3658, 0.1734, 0.0429],\n",
              "          [0.0991, 0.1254, 0.0867, 0.4593],\n",
              "          [0.1340, 0.4632, 0.0500, 0.1999],\n",
              "          [0.1401, 0.1459, 0.4998, 0.2934],\n",
              "          [0.1947, 0.0321, 0.0143, 0.3658],\n",
              "          [0.1734, 0.0429, 0.0991, 0.1254],\n",
              "          [0.0867, 0.4593, 0.1340, 0.4632],\n",
              "          [0.0500, 0.1999, 0.1401, 0.1459]],\n",
              " \n",
              "         [[0.4998, 0.2934, 0.1947, 0.0321],\n",
              "          [0.0143, 0.3658, 0.1734, 0.0429],\n",
              "          [0.0991, 0.1254, 0.0867, 0.4593],\n",
              "          [0.1340, 0.4632, 0.0500, 0.1999],\n",
              "          [0.1401, 0.1459, 0.4998, 0.2934],\n",
              "          [0.1947, 0.0321, 0.0143, 0.3658],\n",
              "          [0.1734, 0.0429, 0.0991, 0.1254],\n",
              "          [0.0867, 0.4593, 0.1340, 0.4632],\n",
              "          [0.0500, 0.1999, 0.1401, 0.1459]]]))"
            ]
          },
          "metadata": {},
          "execution_count": 21
        }
      ]
    },
    {
      "cell_type": "code",
      "source": [
        "new = torch.rand(2,3,4)\n",
        "new1 = torch.rand(2,3,4)"
      ],
      "metadata": {
        "id": "x3tmI00jZA8E"
      },
      "execution_count": 22,
      "outputs": []
    },
    {
      "cell_type": "code",
      "source": [
        "new1 = new1.permute(2,0,1)\n",
        "new1.shape"
      ],
      "metadata": {
        "colab": {
          "base_uri": "https://localhost:8080/"
        },
        "id": "tCIjqN47ZKZQ",
        "outputId": "72ee6d27-51d5-4246-b99a-9ac157eab436"
      },
      "execution_count": 23,
      "outputs": [
        {
          "output_type": "execute_result",
          "data": {
            "text/plain": [
              "torch.Size([4, 2, 3])"
            ]
          },
          "metadata": {},
          "execution_count": 23
        }
      ]
    },
    {
      "cell_type": "code",
      "source": [
        "new.shape, new1.shape"
      ],
      "metadata": {
        "colab": {
          "base_uri": "https://localhost:8080/"
        },
        "id": "RlPuuKVDZ0ix",
        "outputId": "666c1f63-cd24-4d08-db46-b5caeeff6755"
      },
      "execution_count": 27,
      "outputs": [
        {
          "output_type": "execute_result",
          "data": {
            "text/plain": [
              "(torch.Size([2, 3, 4]), torch.Size([4, 2, 3]))"
            ]
          },
          "metadata": {},
          "execution_count": 27
        }
      ]
    },
    {
      "cell_type": "code",
      "source": [
        "new2 = torch.matmul(new, new1.transpose(0,1))\n",
        "new2.shape"
      ],
      "metadata": {
        "colab": {
          "base_uri": "https://localhost:8080/"
        },
        "id": "RQlX1aykZT72",
        "outputId": "4da6aefe-660a-4d21-eeb1-5c4f9d28fbce"
      },
      "execution_count": 28,
      "outputs": [
        {
          "output_type": "execute_result",
          "data": {
            "text/plain": [
              "torch.Size([2, 3, 3])"
            ]
          },
          "metadata": {},
          "execution_count": 28
        }
      ]
    }
  ]
}