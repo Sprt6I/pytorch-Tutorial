{
  "nbformat": 4,
  "nbformat_minor": 0,
  "metadata": {
    "colab": {
      "provenance": [],
      "authorship_tag": "ABX9TyPkHNao8RTt4bsajcYjOrr9",
      "include_colab_link": true
    },
    "kernelspec": {
      "name": "python3",
      "display_name": "Python 3"
    },
    "language_info": {
      "name": "python"
    }
  },
  "cells": [
    {
      "cell_type": "markdown",
      "metadata": {
        "id": "view-in-github",
        "colab_type": "text"
      },
      "source": [
        "<a href=\"https://colab.research.google.com/github/Sprt6I/pytorch-Tutorial/blob/main/NEXT_00_pytorch_fundamentals.ipynb\" target=\"_parent\"><img src=\"https://colab.research.google.com/assets/colab-badge.svg\" alt=\"Open In Colab\"/></a>"
      ]
    },
    {
      "cell_type": "code",
      "execution_count": 35,
      "metadata": {
        "id": "MG_FASPw91YF"
      },
      "outputs": [],
      "source": [
        "import torch"
      ]
    },
    {
      "cell_type": "code",
      "source": [
        "torch.__version__"
      ],
      "metadata": {
        "id": "GngrAhXB-IBY",
        "outputId": "fd0f8bb9-1ba9-4c17-e0ee-23b5ea1da199",
        "colab": {
          "base_uri": "https://localhost:8080/",
          "height": 35
        }
      },
      "execution_count": 36,
      "outputs": [
        {
          "output_type": "execute_result",
          "data": {
            "text/plain": [
              "'2.1.0+cu118'"
            ],
            "application/vnd.google.colaboratory.intrinsic+json": {
              "type": "string"
            }
          },
          "metadata": {},
          "execution_count": 36
        }
      ]
    },
    {
      "cell_type": "code",
      "source": [
        "import torch"
      ],
      "metadata": {
        "id": "QuOd3TCc-K48"
      },
      "execution_count": 37,
      "outputs": []
    },
    {
      "cell_type": "markdown",
      "source": [
        "#Scalar, Vector, Matrix, Tensor"
      ],
      "metadata": {
        "id": "m7iwtajKA48B"
      }
    },
    {
      "cell_type": "code",
      "source": [
        "scalar = torch.tensor(7)\n",
        "print(scalar.ndim, \"\\n\" ,scalar.shape, \"\\n\", scalar.item())"
      ],
      "metadata": {
        "colab": {
          "base_uri": "https://localhost:8080/"
        },
        "id": "v8RUiZ-DA4eB",
        "outputId": "0463185c-38bd-432e-8248-0a48d222344c"
      },
      "execution_count": 38,
      "outputs": [
        {
          "output_type": "stream",
          "name": "stdout",
          "text": [
            "0 \n",
            " torch.Size([]) \n",
            " 7\n"
          ]
        }
      ]
    },
    {
      "cell_type": "code",
      "source": [
        "vector = torch.tensor([1,2,3])\n",
        "print(vector.ndim, \"\\n\", vector.shape)"
      ],
      "metadata": {
        "colab": {
          "base_uri": "https://localhost:8080/"
        },
        "id": "MyLauQc_DC9s",
        "outputId": "a319502e-89f4-4a2c-9c22-2f5e2f2b4fd0"
      },
      "execution_count": 39,
      "outputs": [
        {
          "output_type": "stream",
          "name": "stdout",
          "text": [
            "1 \n",
            " torch.Size([3])\n"
          ]
        }
      ]
    },
    {
      "cell_type": "code",
      "source": [
        "matrix = torch.tensor([[1,2,3,4,5],[1,2,3,4,5],[1,2,3,4,5]])\n",
        "print(matrix.ndim, matrix.shape)"
      ],
      "metadata": {
        "colab": {
          "base_uri": "https://localhost:8080/"
        },
        "id": "jmVZO2EhDMK-",
        "outputId": "1df85c7b-99fd-4818-e0f0-ab8550610876"
      },
      "execution_count": 40,
      "outputs": [
        {
          "output_type": "stream",
          "name": "stdout",
          "text": [
            "2 torch.Size([3, 5])\n"
          ]
        }
      ]
    },
    {
      "cell_type": "code",
      "source": [
        "tensor = torch.tensor([[[1,2,3,4,5,6], [1,2,3,4,5,6], [1,2,3,4,5,6]],\n",
        "                       [[1,2,3,4,5,6], [1,2,3,4,5,6], [1,2,3,4,5,6]],\n",
        "                       [[1,2,3,4,5,6], [1,2,3,4,5,6], [1,2,3,4,5,6]],\n",
        "                       [[1,2,3,4,5,6], [1,2,3,4,5,6], [1,2,3,4,5,6]]])\n",
        "\n",
        "print(tensor.ndim, \"\\n\", tensor.shape)"
      ],
      "metadata": {
        "colab": {
          "base_uri": "https://localhost:8080/"
        },
        "id": "tPl1tNfNDbpu",
        "outputId": "de51c89e-4fdc-4938-9543-ea96ea5e19ac"
      },
      "execution_count": 41,
      "outputs": [
        {
          "output_type": "stream",
          "name": "stdout",
          "text": [
            "3 \n",
            " torch.Size([4, 3, 6])\n"
          ]
        }
      ]
    },
    {
      "cell_type": "markdown",
      "source": [
        "#Random Tensors"
      ],
      "metadata": {
        "id": "DvoJHaGfFqqn"
      }
    },
    {
      "cell_type": "code",
      "source": [
        "ranTensor = torch.rand(3,5)\n",
        "ranTensor"
      ],
      "metadata": {
        "colab": {
          "base_uri": "https://localhost:8080/"
        },
        "id": "dVoh1JaQFqKr",
        "outputId": "fc4dc350-6faf-4590-8ad0-a753e6cf8604"
      },
      "execution_count": 42,
      "outputs": [
        {
          "output_type": "execute_result",
          "data": {
            "text/plain": [
              "tensor([[0.5302, 0.6676, 0.6751, 0.1946, 0.9560],\n",
              "        [0.4009, 0.7532, 0.1672, 0.8877, 0.5089],\n",
              "        [0.5871, 0.6094, 0.7084, 0.9080, 0.9623]])"
            ]
          },
          "metadata": {},
          "execution_count": 42
        }
      ]
    },
    {
      "cell_type": "code",
      "source": [
        "onesTen = torch.ones(3,4)\n",
        "onesTen"
      ],
      "metadata": {
        "colab": {
          "base_uri": "https://localhost:8080/"
        },
        "id": "J6yxgU9iJYAy",
        "outputId": "528ab2ea-e257-43a9-b16e-be1c87c6deda"
      },
      "execution_count": 43,
      "outputs": [
        {
          "output_type": "execute_result",
          "data": {
            "text/plain": [
              "tensor([[1., 1., 1., 1.],\n",
              "        [1., 1., 1., 1.],\n",
              "        [1., 1., 1., 1.]])"
            ]
          },
          "metadata": {},
          "execution_count": 43
        }
      ]
    },
    {
      "cell_type": "code",
      "source": [
        "zerTen = torch.zeros(3,4)\n",
        "zerTen"
      ],
      "metadata": {
        "colab": {
          "base_uri": "https://localhost:8080/"
        },
        "id": "Dvy6vm3UJd90",
        "outputId": "f472fc5d-2708-4a90-bcc0-02814b56797f"
      },
      "execution_count": 44,
      "outputs": [
        {
          "output_type": "execute_result",
          "data": {
            "text/plain": [
              "tensor([[0., 0., 0., 0.],\n",
              "        [0., 0., 0., 0.],\n",
              "        [0., 0., 0., 0.]])"
            ]
          },
          "metadata": {},
          "execution_count": 44
        }
      ]
    },
    {
      "cell_type": "markdown",
      "source": [
        "# Range Tensors"
      ],
      "metadata": {
        "id": "q4JpderdKhsa"
      }
    },
    {
      "cell_type": "code",
      "source": [
        "rangeTensor = torch.arange(0, 23, 2)\n",
        "rangeTensor"
      ],
      "metadata": {
        "colab": {
          "base_uri": "https://localhost:8080/"
        },
        "id": "vpC5UouHJ2lL",
        "outputId": "2b667495-7cdb-4ce9-d3d7-197bd958f4a5"
      },
      "execution_count": 45,
      "outputs": [
        {
          "output_type": "execute_result",
          "data": {
            "text/plain": [
              "tensor([ 0,  2,  4,  6,  8, 10, 12, 14, 16, 18, 20, 22])"
            ]
          },
          "metadata": {},
          "execution_count": 45
        }
      ]
    },
    {
      "cell_type": "code",
      "source": [
        "zerosRangeTen = torch.zeros_like(rangeTensor)\n",
        "zerosRangeTen"
      ],
      "metadata": {
        "colab": {
          "base_uri": "https://localhost:8080/"
        },
        "id": "Bj7q5fS7KwU8",
        "outputId": "c35c7175-3e5d-4e35-b443-050805229e92"
      },
      "execution_count": 46,
      "outputs": [
        {
          "output_type": "execute_result",
          "data": {
            "text/plain": [
              "tensor([0, 0, 0, 0, 0, 0, 0, 0, 0, 0, 0, 0])"
            ]
          },
          "metadata": {},
          "execution_count": 46
        }
      ]
    },
    {
      "cell_type": "markdown",
      "source": [
        "# Tensors Parameters"
      ],
      "metadata": {
        "id": "Iu-KeDhaMOhA"
      }
    },
    {
      "cell_type": "code",
      "source": [
        "tempTensor = torch.rand(3,4, dtype=torch.float64,\n",
        "                    device='cpu',\n",
        "                    requires_grad=False)\n",
        "print(tempTensor)\n",
        "\n",
        "print('\\n')\n",
        "tempTensor = tempTensor.type(torch.float16)\n",
        "print(tempTensor)"
      ],
      "metadata": {
        "colab": {
          "base_uri": "https://localhost:8080/"
        },
        "id": "7wvykbbQMRts",
        "outputId": "869df82c-9c69-4a2f-a33f-68ff0b4486c4"
      },
      "execution_count": 47,
      "outputs": [
        {
          "output_type": "stream",
          "name": "stdout",
          "text": [
            "tensor([[0.3971, 0.2462, 0.8237, 0.3299],\n",
            "        [0.9044, 0.3613, 0.3703, 0.4991],\n",
            "        [0.9551, 0.2219, 0.9824, 0.3770]], dtype=torch.float64)\n",
            "\n",
            "\n",
            "tensor([[0.3972, 0.2462, 0.8237, 0.3298],\n",
            "        [0.9043, 0.3613, 0.3704, 0.4990],\n",
            "        [0.9551, 0.2219, 0.9824, 0.3770]], dtype=torch.float16)\n"
          ]
        }
      ]
    },
    {
      "cell_type": "markdown",
      "source": [
        "# Operations On Tensors"
      ],
      "metadata": {
        "id": "USPJDIM5O8xN"
      }
    },
    {
      "cell_type": "code",
      "source": [
        "tensorForOper = torch.tensor([[1,2,3],[1,2,3],[1,2,3],[1,2,3]])\n",
        "tensorForOper"
      ],
      "metadata": {
        "colab": {
          "base_uri": "https://localhost:8080/"
        },
        "id": "WJp7OjMjPBVJ",
        "outputId": "51602824-fec7-4e4c-8c87-f7d3b798b5b5"
      },
      "execution_count": 48,
      "outputs": [
        {
          "output_type": "execute_result",
          "data": {
            "text/plain": [
              "tensor([[1, 2, 3],\n",
              "        [1, 2, 3],\n",
              "        [1, 2, 3],\n",
              "        [1, 2, 3]])"
            ]
          },
          "metadata": {},
          "execution_count": 48
        }
      ]
    },
    {
      "cell_type": "code",
      "source": [
        "tensorForOper + 10 #tensorForOper.add(10)"
      ],
      "metadata": {
        "colab": {
          "base_uri": "https://localhost:8080/"
        },
        "id": "fYtdoC9mPLTf",
        "outputId": "25919798-6213-43d9-eb5a-c188abd0d5b2"
      },
      "execution_count": 49,
      "outputs": [
        {
          "output_type": "execute_result",
          "data": {
            "text/plain": [
              "tensor([[11, 12, 13],\n",
              "        [11, 12, 13],\n",
              "        [11, 12, 13],\n",
              "        [11, 12, 13]])"
            ]
          },
          "metadata": {},
          "execution_count": 49
        }
      ]
    },
    {
      "cell_type": "code",
      "source": [
        "tensorForOper - 10"
      ],
      "metadata": {
        "colab": {
          "base_uri": "https://localhost:8080/"
        },
        "id": "ebN-RQWPPTm2",
        "outputId": "413c8602-62a6-4c35-947e-0e5f8dcc9abd"
      },
      "execution_count": 50,
      "outputs": [
        {
          "output_type": "execute_result",
          "data": {
            "text/plain": [
              "tensor([[-9, -8, -7],\n",
              "        [-9, -8, -7],\n",
              "        [-9, -8, -7],\n",
              "        [-9, -8, -7]])"
            ]
          },
          "metadata": {},
          "execution_count": 50
        }
      ]
    },
    {
      "cell_type": "code",
      "source": [
        "tensorForOper/10"
      ],
      "metadata": {
        "colab": {
          "base_uri": "https://localhost:8080/"
        },
        "id": "MOohtwUHPVuh",
        "outputId": "ae6fae41-fee1-4440-806c-39dae52d2356"
      },
      "execution_count": 51,
      "outputs": [
        {
          "output_type": "execute_result",
          "data": {
            "text/plain": [
              "tensor([[0.1000, 0.2000, 0.3000],\n",
              "        [0.1000, 0.2000, 0.3000],\n",
              "        [0.1000, 0.2000, 0.3000],\n",
              "        [0.1000, 0.2000, 0.3000]])"
            ]
          },
          "metadata": {},
          "execution_count": 51
        }
      ]
    },
    {
      "cell_type": "code",
      "source": [
        "tensorForOper * 10 #tensorForOper.mul(10)"
      ],
      "metadata": {
        "colab": {
          "base_uri": "https://localhost:8080/"
        },
        "id": "nje_ELjqPYBD",
        "outputId": "717d5eb6-a2ea-492c-e6d2-fe1a83da5550"
      },
      "execution_count": 52,
      "outputs": [
        {
          "output_type": "execute_result",
          "data": {
            "text/plain": [
              "tensor([[10, 20, 30],\n",
              "        [10, 20, 30],\n",
              "        [10, 20, 30],\n",
              "        [10, 20, 30]])"
            ]
          },
          "metadata": {},
          "execution_count": 52
        }
      ]
    },
    {
      "cell_type": "markdown",
      "source": [
        "# Matrix multiplication\n",
        "\n",
        "1 Tensors Innder Dimensions Must Match                                          \n",
        "2 Tensor will have dimension of outer dimensions: tensor2 number of elements, tensor1 number of lists"
      ],
      "metadata": {
        "id": "mHpHFPfEYBlm"
      }
    },
    {
      "cell_type": "code",
      "source": [
        "mulTen = torch.rand(3,2)\n",
        "mulTen2 = torch.rand(2,5)\n",
        "torch.matmul(mulTen, mulTen2)"
      ],
      "metadata": {
        "colab": {
          "base_uri": "https://localhost:8080/"
        },
        "id": "c20f7eFwYEs7",
        "outputId": "c895d112-2c78-45cb-9304-e358c6ce78a3"
      },
      "execution_count": 53,
      "outputs": [
        {
          "output_type": "execute_result",
          "data": {
            "text/plain": [
              "tensor([[0.2852, 0.3571, 0.3097, 0.5869, 0.2213],\n",
              "        [0.9201, 0.5756, 0.6634, 0.8736, 0.4183],\n",
              "        [0.3796, 0.5321, 0.4453, 0.8817, 0.3237]])"
            ]
          },
          "metadata": {},
          "execution_count": 53
        }
      ]
    },
    {
      "cell_type": "code",
      "source": [
        "mulTenNext = torch.rand(2,3)\n",
        "mulTenNext2 = torch.rand(2,3)\n",
        "try:\n",
        "  torch.matmul(mulTenNext, mulTenNext2)\n",
        "except:\n",
        "  multiptication = torch.matmul(mulTenNext, mulTenNext2.reshape(3,2))\n",
        "multiptication"
      ],
      "metadata": {
        "colab": {
          "base_uri": "https://localhost:8080/"
        },
        "id": "mPfD65qTZKnd",
        "outputId": "fdaf4ab8-ae81-43d5-fc1f-9c4da54d5a27"
      },
      "execution_count": 54,
      "outputs": [
        {
          "output_type": "execute_result",
          "data": {
            "text/plain": [
              "tensor([[1.6050, 2.0181],\n",
              "        [1.0359, 1.3552]])"
            ]
          },
          "metadata": {},
          "execution_count": 54
        }
      ]
    },
    {
      "cell_type": "markdown",
      "source": [
        "# Tensors Aggregations"
      ],
      "metadata": {
        "id": "d5AH9fnXZkxW"
      }
    },
    {
      "cell_type": "code",
      "source": [
        "x = torch.rand(3,4)\n",
        "x"
      ],
      "metadata": {
        "colab": {
          "base_uri": "https://localhost:8080/"
        },
        "id": "D-fzE-HIZppp",
        "outputId": "fbe31feb-57b1-4819-f7a1-3f8484efb320"
      },
      "execution_count": 55,
      "outputs": [
        {
          "output_type": "execute_result",
          "data": {
            "text/plain": [
              "tensor([[0.4497, 0.4748, 0.1238, 0.2725],\n",
              "        [0.5201, 0.5179, 0.2549, 0.0673],\n",
              "        [0.9419, 0.4294, 0.1944, 0.6842]])"
            ]
          },
          "metadata": {},
          "execution_count": 55
        }
      ]
    },
    {
      "cell_type": "code",
      "source": [
        "x.min(), x.max()"
      ],
      "metadata": {
        "colab": {
          "base_uri": "https://localhost:8080/"
        },
        "id": "JjboXj7fZxuM",
        "outputId": "619cfb3c-6a6d-40cb-a9c7-ea1859a2f7f9"
      },
      "execution_count": 56,
      "outputs": [
        {
          "output_type": "execute_result",
          "data": {
            "text/plain": [
              "(tensor(0.0673), tensor(0.9419))"
            ]
          },
          "metadata": {},
          "execution_count": 56
        }
      ]
    },
    {
      "cell_type": "code",
      "source": [
        "x.mean(), x.median(), x.sum()"
      ],
      "metadata": {
        "colab": {
          "base_uri": "https://localhost:8080/"
        },
        "id": "qZnEPfraZ1Gc",
        "outputId": "f4590c1f-ca70-46ab-8101-1a0845836245"
      },
      "execution_count": 57,
      "outputs": [
        {
          "output_type": "execute_result",
          "data": {
            "text/plain": [
              "(tensor(0.4109), tensor(0.4294), tensor(4.9310))"
            ]
          },
          "metadata": {},
          "execution_count": 57
        }
      ]
    },
    {
      "cell_type": "code",
      "source": [
        "x.argmin(), x.argmax()"
      ],
      "metadata": {
        "colab": {
          "base_uri": "https://localhost:8080/"
        },
        "id": "RfAGLKzobKt1",
        "outputId": "88d3a8ed-3d83-4385-f3dd-f3f26648a39d"
      },
      "execution_count": 58,
      "outputs": [
        {
          "output_type": "execute_result",
          "data": {
            "text/plain": [
              "(tensor(7), tensor(8))"
            ]
          },
          "metadata": {},
          "execution_count": 58
        }
      ]
    },
    {
      "cell_type": "markdown",
      "source": [
        "# reshape, squeeze, unsqueeze, stack, view, permute Tensors"
      ],
      "metadata": {
        "id": "tmx-3GDThR34"
      }
    },
    {
      "cell_type": "code",
      "source": [
        "newTensor = torch.rand(4,3,2)"
      ],
      "metadata": {
        "id": "nVkvF7FSheOp"
      },
      "execution_count": 66,
      "outputs": []
    },
    {
      "cell_type": "code",
      "source": [
        "newTensor = newTensor.reshape(1,24)\n",
        "newTensor.shape"
      ],
      "metadata": {
        "colab": {
          "base_uri": "https://localhost:8080/"
        },
        "id": "CNQ1RA0NhjWa",
        "outputId": "29315fa3-877d-4202-f108-2138c0567576"
      },
      "execution_count": 68,
      "outputs": [
        {
          "output_type": "execute_result",
          "data": {
            "text/plain": [
              "torch.Size([1, 24])"
            ]
          },
          "metadata": {},
          "execution_count": 68
        }
      ]
    },
    {
      "cell_type": "code",
      "source": [
        "newTensor = newTensor.squeeze(dim=0)\n",
        "newTensor.shape"
      ],
      "metadata": {
        "colab": {
          "base_uri": "https://localhost:8080/"
        },
        "id": "MU043hmEhqDm",
        "outputId": "f9dc3a87-5ebb-4db7-a777-de0b38c397b9"
      },
      "execution_count": 71,
      "outputs": [
        {
          "output_type": "execute_result",
          "data": {
            "text/plain": [
              "torch.Size([24])"
            ]
          },
          "metadata": {},
          "execution_count": 71
        }
      ]
    },
    {
      "cell_type": "code",
      "source": [
        "newTensor = newTensor.unsqueeze(dim=0)\n",
        "newTensor.shape"
      ],
      "metadata": {
        "colab": {
          "base_uri": "https://localhost:8080/"
        },
        "id": "g9F9vJOCiDVy",
        "outputId": "43866707-d727-41e5-800f-51f2e4ca2934"
      },
      "execution_count": 72,
      "outputs": [
        {
          "output_type": "execute_result",
          "data": {
            "text/plain": [
              "torch.Size([1, 24])"
            ]
          },
          "metadata": {},
          "execution_count": 72
        }
      ]
    },
    {
      "cell_type": "code",
      "source": [
        "torch.stack([newTensor,newTensor,newTensor,newTensor])"
      ],
      "metadata": {
        "colab": {
          "base_uri": "https://localhost:8080/"
        },
        "id": "SvSsr9-yiKKu",
        "outputId": "677bfed4-47c6-4553-b92c-508dd2fce51a"
      },
      "execution_count": 75,
      "outputs": [
        {
          "output_type": "execute_result",
          "data": {
            "text/plain": [
              "tensor([[[0.6942, 0.6625, 0.3593, 0.7688, 0.4221, 0.8563, 0.4342, 0.0354,\n",
              "          0.3532, 0.8426, 0.8060, 0.9441, 0.1262, 0.0149, 0.0405, 0.6452,\n",
              "          0.6240, 0.3388, 0.4566, 0.6296, 0.4305, 0.2474, 0.5737, 0.5669]],\n",
              "\n",
              "        [[0.6942, 0.6625, 0.3593, 0.7688, 0.4221, 0.8563, 0.4342, 0.0354,\n",
              "          0.3532, 0.8426, 0.8060, 0.9441, 0.1262, 0.0149, 0.0405, 0.6452,\n",
              "          0.6240, 0.3388, 0.4566, 0.6296, 0.4305, 0.2474, 0.5737, 0.5669]],\n",
              "\n",
              "        [[0.6942, 0.6625, 0.3593, 0.7688, 0.4221, 0.8563, 0.4342, 0.0354,\n",
              "          0.3532, 0.8426, 0.8060, 0.9441, 0.1262, 0.0149, 0.0405, 0.6452,\n",
              "          0.6240, 0.3388, 0.4566, 0.6296, 0.4305, 0.2474, 0.5737, 0.5669]],\n",
              "\n",
              "        [[0.6942, 0.6625, 0.3593, 0.7688, 0.4221, 0.8563, 0.4342, 0.0354,\n",
              "          0.3532, 0.8426, 0.8060, 0.9441, 0.1262, 0.0149, 0.0405, 0.6452,\n",
              "          0.6240, 0.3388, 0.4566, 0.6296, 0.4305, 0.2474, 0.5737, 0.5669]]])"
            ]
          },
          "metadata": {},
          "execution_count": 75
        }
      ]
    }
  ]
}