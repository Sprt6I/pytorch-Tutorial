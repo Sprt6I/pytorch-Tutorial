{
  "nbformat": 4,
  "nbformat_minor": 0,
  "metadata": {
    "colab": {
      "provenance": []
    },
    "kernelspec": {
      "name": "python3",
      "display_name": "Python 3"
    },
    "language_info": {
      "name": "python"
    }
  },
  "cells": [
    {
      "cell_type": "code",
      "execution_count": 1,
      "metadata": {
        "id": "MG_FASPw91YF"
      },
      "outputs": [],
      "source": [
        "import torch"
      ]
    },
    {
      "cell_type": "code",
      "source": [
        "torch.__version__"
      ],
      "metadata": {
        "id": "GngrAhXB-IBY",
        "outputId": "0293397f-5d5f-4460-bbdb-f99e0947796a",
        "colab": {
          "base_uri": "https://localhost:8080/",
          "height": 35
        }
      },
      "execution_count": null,
      "outputs": [
        {
          "output_type": "execute_result",
          "data": {
            "text/plain": [
              "'2.1.0+cu118'"
            ],
            "application/vnd.google.colaboratory.intrinsic+json": {
              "type": "string"
            }
          },
          "metadata": {},
          "execution_count": 3
        }
      ]
    },
    {
      "cell_type": "code",
      "source": [
        "import torch"
      ],
      "metadata": {
        "id": "QuOd3TCc-K48"
      },
      "execution_count": null,
      "outputs": []
    },
    {
      "cell_type": "markdown",
      "source": [
        "#Scalar, Vector, Matrix, Tensor"
      ],
      "metadata": {
        "id": "m7iwtajKA48B"
      }
    },
    {
      "cell_type": "code",
      "source": [
        "scalar = torch.tensor(7)\n",
        "print(scalar.ndim, \"\\n\" ,scalar.shape, \"\\n\", scalar.item())"
      ],
      "metadata": {
        "colab": {
          "base_uri": "https://localhost:8080/"
        },
        "id": "v8RUiZ-DA4eB",
        "outputId": "baaed25d-a1fb-4d0f-dcea-5512d69b90b6"
      },
      "execution_count": null,
      "outputs": [
        {
          "output_type": "stream",
          "name": "stdout",
          "text": [
            "0 \n",
            " torch.Size([]) \n",
            " 7\n"
          ]
        }
      ]
    },
    {
      "cell_type": "code",
      "source": [
        "vector = torch.tensor([1,2,3])\n",
        "print(vector.ndim, \"\\n\", vector.shape)"
      ],
      "metadata": {
        "colab": {
          "base_uri": "https://localhost:8080/"
        },
        "id": "MyLauQc_DC9s",
        "outputId": "48307180-df70-4cfb-943e-9e18ce49602f"
      },
      "execution_count": null,
      "outputs": [
        {
          "output_type": "stream",
          "name": "stdout",
          "text": [
            "1 \n",
            " torch.Size([3])\n"
          ]
        }
      ]
    },
    {
      "cell_type": "code",
      "source": [
        "matrix = torch.tensor([[1,2,3,4,5],[1,2,3,4,5],[1,2,3,4,5]])\n",
        "print(matrix.ndim, matrix.shape)"
      ],
      "metadata": {
        "colab": {
          "base_uri": "https://localhost:8080/"
        },
        "id": "jmVZO2EhDMK-",
        "outputId": "b517bdfc-3247-44dd-d5f1-0e775f2cfd93"
      },
      "execution_count": null,
      "outputs": [
        {
          "output_type": "stream",
          "name": "stdout",
          "text": [
            "2 torch.Size([3, 5])\n"
          ]
        }
      ]
    },
    {
      "cell_type": "code",
      "source": [
        "tensor = torch.tensor([[[1,2,3,4,5,6], [1,2,3,4,5,6], [1,2,3,4,5,6]],\n",
        "                       [[1,2,3,4,5,6], [1,2,3,4,5,6], [1,2,3,4,5,6]],\n",
        "                       [[1,2,3,4,5,6], [1,2,3,4,5,6], [1,2,3,4,5,6]],\n",
        "                       [[1,2,3,4,5,6], [1,2,3,4,5,6], [1,2,3,4,5,6]]])\n",
        "\n",
        "print(tensor.ndim, \"\\n\", tensor.shape)"
      ],
      "metadata": {
        "colab": {
          "base_uri": "https://localhost:8080/"
        },
        "id": "tPl1tNfNDbpu",
        "outputId": "bc49261c-4207-4ce6-cb80-875f30c7595d"
      },
      "execution_count": null,
      "outputs": [
        {
          "output_type": "stream",
          "name": "stdout",
          "text": [
            "3 \n",
            " torch.Size([4, 3, 6])\n"
          ]
        }
      ]
    },
    {
      "cell_type": "markdown",
      "source": [
        "#Random Tensors"
      ],
      "metadata": {
        "id": "DvoJHaGfFqqn"
      }
    },
    {
      "cell_type": "code",
      "source": [
        "ranTensor = torch.rand(3,5)\n",
        "ranTensor"
      ],
      "metadata": {
        "colab": {
          "base_uri": "https://localhost:8080/"
        },
        "id": "dVoh1JaQFqKr",
        "outputId": "20d30ba0-36af-4441-e843-761efec5cc19"
      },
      "execution_count": null,
      "outputs": [
        {
          "output_type": "execute_result",
          "data": {
            "text/plain": [
              "tensor([[0.1331, 0.9179, 0.6484, 0.9359, 0.7713],\n",
              "        [0.8510, 0.3971, 0.2049, 0.8235, 0.4495],\n",
              "        [0.0118, 0.0437, 0.3168, 0.9566, 0.9599]])"
            ]
          },
          "metadata": {},
          "execution_count": 15
        }
      ]
    },
    {
      "cell_type": "code",
      "source": [
        "onesTen = torch.ones(3,4)\n",
        "onesTen"
      ],
      "metadata": {
        "colab": {
          "base_uri": "https://localhost:8080/"
        },
        "id": "J6yxgU9iJYAy",
        "outputId": "fd438442-9e04-4345-b21e-db9428b3db5a"
      },
      "execution_count": null,
      "outputs": [
        {
          "output_type": "execute_result",
          "data": {
            "text/plain": [
              "tensor([[1., 1., 1., 1.],\n",
              "        [1., 1., 1., 1.],\n",
              "        [1., 1., 1., 1.]])"
            ]
          },
          "metadata": {},
          "execution_count": 17
        }
      ]
    },
    {
      "cell_type": "code",
      "source": [
        "zerTen = torch.zeros(3,4)\n",
        "zerTen"
      ],
      "metadata": {
        "colab": {
          "base_uri": "https://localhost:8080/"
        },
        "id": "Dvy6vm3UJd90",
        "outputId": "95bc513b-6b1a-4e89-ac2b-1fb132b4d1f6"
      },
      "execution_count": null,
      "outputs": [
        {
          "output_type": "execute_result",
          "data": {
            "text/plain": [
              "tensor([[0., 0., 0., 0.],\n",
              "        [0., 0., 0., 0.],\n",
              "        [0., 0., 0., 0.]])"
            ]
          },
          "metadata": {},
          "execution_count": 19
        }
      ]
    },
    {
      "cell_type": "markdown",
      "source": [
        "# Range Tensors"
      ],
      "metadata": {
        "id": "q4JpderdKhsa"
      }
    },
    {
      "cell_type": "code",
      "source": [
        "rangeTensor = torch.arange(0, 23, 2)\n",
        "rangeTensor"
      ],
      "metadata": {
        "colab": {
          "base_uri": "https://localhost:8080/"
        },
        "id": "vpC5UouHJ2lL",
        "outputId": "c5a15ce7-4789-4326-a45d-c3ca9b14f7bc"
      },
      "execution_count": null,
      "outputs": [
        {
          "output_type": "execute_result",
          "data": {
            "text/plain": [
              "tensor([ 0,  2,  4,  6,  8, 10, 12, 14, 16, 18, 20, 22])"
            ]
          },
          "metadata": {},
          "execution_count": 21
        }
      ]
    },
    {
      "cell_type": "code",
      "source": [
        "zerosRangeTen = torch.zeros_like(rangeTensor)\n",
        "zerosRangeTen"
      ],
      "metadata": {
        "colab": {
          "base_uri": "https://localhost:8080/"
        },
        "id": "Bj7q5fS7KwU8",
        "outputId": "d63e5fb0-198a-4769-f49e-b059ae9effe8"
      },
      "execution_count": null,
      "outputs": [
        {
          "output_type": "execute_result",
          "data": {
            "text/plain": [
              "tensor([0, 0, 0, 0, 0, 0, 0, 0, 0, 0, 0, 0])"
            ]
          },
          "metadata": {},
          "execution_count": 22
        }
      ]
    },
    {
      "cell_type": "markdown",
      "source": [
        "# Tensors Parameters"
      ],
      "metadata": {
        "id": "Iu-KeDhaMOhA"
      }
    },
    {
      "cell_type": "code",
      "source": [
        "tempTensor = torch.rand(3,4, dtype=torch.float64,\n",
        "                    device='cpu',\n",
        "                    requires_grad=False)\n",
        "print(tempTensor)\n",
        "\n",
        "print('\\n')\n",
        "tempTensor = tempTensor.type(torch.float16)\n",
        "print(tempTensor)"
      ],
      "metadata": {
        "colab": {
          "base_uri": "https://localhost:8080/"
        },
        "id": "7wvykbbQMRts",
        "outputId": "c56c5802-b9cf-4bd2-dad9-638cf1e955a5"
      },
      "execution_count": null,
      "outputs": [
        {
          "output_type": "stream",
          "name": "stdout",
          "text": [
            "tensor([[0.8469, 0.5901, 0.4149, 0.6793],\n",
            "        [0.4764, 0.9268, 0.7465, 0.0875],\n",
            "        [0.0773, 0.8230, 0.5801, 0.4959]], dtype=torch.float64)\n",
            "\n",
            "\n",
            "tensor([[0.8467, 0.5898, 0.4148, 0.6792],\n",
            "        [0.4763, 0.9268, 0.7466, 0.0875],\n",
            "        [0.0773, 0.8232, 0.5801, 0.4958]], dtype=torch.float16)\n"
          ]
        }
      ]
    },
    {
      "cell_type": "markdown",
      "source": [
        "# Operations On Tensors"
      ],
      "metadata": {
        "id": "USPJDIM5O8xN"
      }
    },
    {
      "cell_type": "code",
      "source": [
        "tensorForOper = torch.tensor([[1,2,3],[1,2,3],[1,2,3],[1,2,3]])\n",
        "tensorForOper"
      ],
      "metadata": {
        "colab": {
          "base_uri": "https://localhost:8080/"
        },
        "id": "WJp7OjMjPBVJ",
        "outputId": "7ad70b46-5814-4083-d67e-72f142e90eb3"
      },
      "execution_count": null,
      "outputs": [
        {
          "output_type": "execute_result",
          "data": {
            "text/plain": [
              "tensor([[1, 2, 3],\n",
              "        [1, 2, 3],\n",
              "        [1, 2, 3],\n",
              "        [1, 2, 3]])"
            ]
          },
          "metadata": {},
          "execution_count": 30
        }
      ]
    },
    {
      "cell_type": "code",
      "source": [
        "tensorForOper + 10 #tensorForOper.add(10)"
      ],
      "metadata": {
        "colab": {
          "base_uri": "https://localhost:8080/"
        },
        "id": "fYtdoC9mPLTf",
        "outputId": "ffdecd53-f5f7-457d-e70e-70fc2dade043"
      },
      "execution_count": null,
      "outputs": [
        {
          "output_type": "execute_result",
          "data": {
            "text/plain": [
              "tensor([[11, 12, 13],\n",
              "        [11, 12, 13],\n",
              "        [11, 12, 13],\n",
              "        [11, 12, 13]])"
            ]
          },
          "metadata": {},
          "execution_count": 31
        }
      ]
    },
    {
      "cell_type": "code",
      "source": [
        "tensorForOper - 10"
      ],
      "metadata": {
        "colab": {
          "base_uri": "https://localhost:8080/"
        },
        "id": "ebN-RQWPPTm2",
        "outputId": "cd36e562-a2fc-420d-81c0-b28a4a156132"
      },
      "execution_count": null,
      "outputs": [
        {
          "output_type": "execute_result",
          "data": {
            "text/plain": [
              "tensor([[-9, -8, -7],\n",
              "        [-9, -8, -7],\n",
              "        [-9, -8, -7],\n",
              "        [-9, -8, -7]])"
            ]
          },
          "metadata": {},
          "execution_count": 33
        }
      ]
    },
    {
      "cell_type": "code",
      "source": [
        "tensorForOper/10"
      ],
      "metadata": {
        "colab": {
          "base_uri": "https://localhost:8080/"
        },
        "id": "MOohtwUHPVuh",
        "outputId": "9e154b70-b482-4896-9f50-aa0b10b1d35e"
      },
      "execution_count": null,
      "outputs": [
        {
          "output_type": "execute_result",
          "data": {
            "text/plain": [
              "tensor([[0.1000, 0.2000, 0.3000],\n",
              "        [0.1000, 0.2000, 0.3000],\n",
              "        [0.1000, 0.2000, 0.3000],\n",
              "        [0.1000, 0.2000, 0.3000]])"
            ]
          },
          "metadata": {},
          "execution_count": 34
        }
      ]
    },
    {
      "cell_type": "code",
      "source": [
        "tensorForOper * 10 #tensorForOper.mul(10)"
      ],
      "metadata": {
        "colab": {
          "base_uri": "https://localhost:8080/"
        },
        "id": "nje_ELjqPYBD",
        "outputId": "e518180a-33cf-4475-b424-a9713d028ec9"
      },
      "execution_count": null,
      "outputs": [
        {
          "output_type": "execute_result",
          "data": {
            "text/plain": [
              "tensor([[10, 20, 30],\n",
              "        [10, 20, 30],\n",
              "        [10, 20, 30],\n",
              "        [10, 20, 30]])"
            ]
          },
          "metadata": {},
          "execution_count": 35
        }
      ]
    },
    {
      "cell_type": "markdown",
      "source": [
        "# Matrix multiplication\n",
        "\n",
        "1 Tensors Innder Dimensions Must Match                                          \n",
        "2 Tensor will have dimension of outer dimensions: tensor2 number of elements, tensor1 number of lists"
      ],
      "metadata": {
        "id": "mHpHFPfEYBlm"
      }
    },
    {
      "cell_type": "code",
      "source": [
        "mulTen = torch.rand(3,2)\n",
        "mulTen2 = torch.rand(2,5)\n",
        "torch.matmul(mulTen, mulTen2)"
      ],
      "metadata": {
        "colab": {
          "base_uri": "https://localhost:8080/",
          "height": 0
        },
        "id": "c20f7eFwYEs7",
        "outputId": "58a7c2ae-9b6d-498e-f611-7058cda93128"
      },
      "execution_count": 6,
      "outputs": [
        {
          "output_type": "execute_result",
          "data": {
            "text/plain": [
              "tensor([[0.4486, 0.5130, 0.3483, 0.4494, 0.2641],\n",
              "        [0.7432, 0.5390, 0.5886, 0.8125, 0.5297],\n",
              "        [0.5406, 0.6291, 0.4193, 0.5392, 0.3150]])"
            ]
          },
          "metadata": {},
          "execution_count": 6
        }
      ]
    },
    {
      "cell_type": "code",
      "source": [
        "mulTenNext = torch.rand(2,3)\n",
        "mulTenNext2 = torch.rand(2,3)\n",
        "try:\n",
        "  torch.matmul(mulTenNext, mulTenNext2)\n",
        "except:\n",
        "  multiptication = torch.matmul(mulTenNext, mulTenNext2.reshape(3,2))\n",
        "multiptication"
      ],
      "metadata": {
        "colab": {
          "base_uri": "https://localhost:8080/"
        },
        "id": "mPfD65qTZKnd",
        "outputId": "10af61d8-b319-4de2-dffc-1590ec845af1"
      },
      "execution_count": 9,
      "outputs": [
        {
          "output_type": "execute_result",
          "data": {
            "text/plain": [
              "tensor([[0.6701, 0.1410],\n",
              "        [1.0425, 0.1722]])"
            ]
          },
          "metadata": {},
          "execution_count": 9
        }
      ]
    }
  ]
}